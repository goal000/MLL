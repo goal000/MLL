{
  "nbformat": 4,
  "nbformat_minor": 0,
  "metadata": {
    "colab": {
      "provenance": []
    },
    "kernelspec": {
      "name": "python3",
      "display_name": "Python 3"
    },
    "language_info": {
      "name": "python"
    }
  },
  "cells": [
    {
      "cell_type": "markdown",
      "source": [
        "**KNN For Iris Dataset**"
      ],
      "metadata": {
        "id": "veNEDnTrOoJ9"
      }
    },
    {
      "cell_type": "markdown",
      "source": [
        "**Import necessary modules**"
      ],
      "metadata": {
        "id": "irPcvUUQcdlV"
      }
    },
    {
      "cell_type": "code",
      "execution_count": null,
      "metadata": {
        "id": "ujYRqsLmcXt5"
      },
      "outputs": [],
      "source": [
        "from sklearn.neighbors import KNeighborsClassifier\n",
        "from sklearn.model_selection import train_test_split\n",
        "from sklearn.datasets import load_iris\n",
        "import random"
      ]
    },
    {
      "cell_type": "markdown",
      "source": [
        "**Loading data**"
      ],
      "metadata": {
        "id": "0gnvYrtDcrrT"
      }
    },
    {
      "cell_type": "code",
      "source": [
        "data_iris = load_iris()"
      ],
      "metadata": {
        "id": "bPhfaT8icwd1"
      },
      "execution_count": null,
      "outputs": []
    },
    {
      "cell_type": "markdown",
      "source": [
        "**To get list of target names**"
      ],
      "metadata": {
        "id": "6PpBwKxcdoRl"
      }
    },
    {
      "cell_type": "code",
      "source": [
        "label_target = data_iris.target_names\n",
        "print()\n",
        "print(\"Sample Data from Iris Dataset\")\n",
        "for i in range(10):\n",
        "  rn = random.randint(0,120)\n",
        "print(data_iris.data[rn],\"===>\",label_target[data_iris.target[rn]])"
      ],
      "metadata": {
        "id": "fCEKuqvpc5vn",
        "colab": {
          "base_uri": "https://localhost:8080/"
        },
        "outputId": "53593e8b-2322-4269-e89b-23dba4855e85"
      },
      "execution_count": null,
      "outputs": [
        {
          "output_type": "stream",
          "name": "stdout",
          "text": [
            "\n",
            "Sample Data from Iris Dataset\n",
            "[7.2 3.6 6.1 2.5] ===> virginica\n"
          ]
        }
      ]
    },
    {
      "cell_type": "markdown",
      "source": [
        "**Create feature and target arrays**"
      ],
      "metadata": {
        "id": "D9xXTnQpd6E7"
      }
    },
    {
      "cell_type": "code",
      "source": [
        "X = data_iris.data\n",
        "y = data_iris.target"
      ],
      "metadata": {
        "id": "1eCtGK0NdITv"
      },
      "execution_count": null,
      "outputs": []
    },
    {
      "cell_type": "markdown",
      "source": [
        "**Split into training and test set**"
      ],
      "metadata": {
        "id": "lwwvtlrAeM3-"
      }
    },
    {
      "cell_type": "code",
      "source": [
        "X_train, X_test, y_train, y_test = train_test_split(X, y, test_size = 0.3, random_state=1)"
      ],
      "metadata": {
        "id": "v9Ae9CGJdMMz"
      },
      "execution_count": null,
      "outputs": []
    },
    {
      "cell_type": "code",
      "source": [
        "print(\"The Training dataset length: \",len(X_train))\n",
        "print(\"The Testing dataset length: \",len(X_test))\n",
        "try:\n",
        "  nn = int(input(\"Enter number of neighbors :\"))\n",
        "  knn = KNeighborsClassifier(nn)\n",
        "  knn.fit(X_train, y_train)\n",
        "  # to display the score\n",
        "  print(\"The Score is :\",knn.score(X_test, y_test))\n",
        "  # To get test data from the user\n",
        "  test_data = input(\"Enter Test Data :\").split(\",\")\n",
        "  for i in range(len(test_data)):\n",
        "    test_data[i] = float(test_data[i])\n",
        "  print()\n",
        "  v = knn.predict([test_data])\n",
        "  print(\"Predicted output is :\",label_target[v])\n",
        "except:\n",
        "  print(\"Please supply valid input......\")"
      ],
      "metadata": {
        "id": "SmRXuQ7ydQWa",
        "colab": {
          "base_uri": "https://localhost:8080/"
        },
        "outputId": "8eebe370-4327-4dfc-b8e3-9478025ac335"
      },
      "execution_count": null,
      "outputs": [
        {
          "output_type": "stream",
          "name": "stdout",
          "text": [
            "The Training dataset length:  105\n",
            "The Testing dataset length:  45\n",
            "Enter number of neighbors :5\n",
            "The Score is : 0.9777777777777777\n",
            "Enter Test Data :5.4,3.9,1.3,0.4\n",
            "\n",
            "Predicted output is : ['setosa']\n"
          ]
        }
      ]
    }
  ]
}
